{
 "cells": [
  {
   "cell_type": "code",
   "execution_count": null,
   "metadata": {},
   "outputs": [],
   "source": [
    "# load model hyper params\n",
    "# load some test image\n",
    "# load some interactive window & plot it\n",
    "# do it for changing one codeword at a fixed position across codebook\n",
    "# etc."
   ]
  },
  {
   "cell_type": "code",
   "execution_count": null,
   "metadata": {},
   "outputs": [],
   "source": [
    "from IPython.display import clear_output\n",
    "from run_pipeline import run\n",
    "import torch\n",
    "import numpy as np\n",
    "import imageio\n",
    "clear_output(wait=True)\n",
    "#clear_output(wait=True)\n"
   ]
  },
  {
   "cell_type": "code",
   "execution_count": null,
   "metadata": {},
   "outputs": [],
   "source": [
    "def change_one_token(trainers, dataset_name = \"toy_dataset\", dataset_type = \"test\"):\n",
    "    M = trainers[dataset_name].model.VQ.M\n",
    "    K = trainers[dataset_name].model.VQ.K\n",
    "\n",
    "    image_batch, image_id_batch = next(iter(trainers[dataset_name].loaders[dataset_type]))\n",
    "    image_batch,image_id_batch = image_batch.to(trainers[dataset_name].device), image_id_batch.to(trainers[dataset_name].device)\n",
    "\n",
    "    trainers[dataset_name].model.VQ.output_whole_quantization_process = True\n",
    "    e_and_q_latent_loss, Zq, e_latent_loss, q_latent_loss, estimate_codebook_words, encoding_indices, estimate_codebook_words_freq, estimate_codebook_words_prob, inputs, D  = \\\n",
    "        trainers[dataset_name].model.VQ(trainers[dataset_name].model.encoder(image_batch))\n",
    "    trainers[dataset_name].model.VQ.output_whole_quantization_process = False\n",
    "    \n",
    "    changed_token_map_position_range_step = 1\n",
    "    changed_token_map_position_range = np.arange(0,K,changed_token_map_position_range_step)\n",
    "    for changed_token_map_position_row in np.arange(M+1):\n",
    "        for changed_token_map_position_column in np.arange(M+1):\n",
    "            \n",
    "            digit_size = len(str(len(trainers[dataset_name].loaders[dataset_type].dataset)))\n",
    "            \n",
    "            for index_, changed_token_map_position_value in enumerate(changed_token_map_position_range):\n",
    "                new_encoding_indices = encoding_indices.clone().detach().view(M+1,M+1)\n",
    "                new_encoding_indices[changed_token_map_position_row, changed_token_map_position_column] = changed_token_map_position_value\n",
    "                new_encoding_indices = new_encoding_indices.view(-1,1)\n",
    "                trainers[dataset_name].original_reconstructed_changed_reconstucted_tokens_changed_tokens(  image_batch,# one image, it is the tensor of shape = (1,C,H,W)\n",
    "                                                                                                            image_id_batch,#id\n",
    "                                                                                                            new_encoding_indices, \n",
    "                                                                                                            index_,\n",
    "                                                                                                            dataset_str = dataset_type,\n",
    "                                                                                                            create_plot_for_every_image_in_dataset = False, \n",
    "                                                                                                            jupyter_show_images = False)\n",
    "            frames_per_second = 5#10#5#10#1\n",
    "            format_list = ['mp4', 'gif']\n",
    "            for format_ in format_list:\n",
    "                with imageio.get_writer(trainers[dataset_name].visualize_tokens_path + f\"_{str(changed_token_map_position_row).zfill(1)}_x_{str(changed_token_map_position_column).zfill(1)}_token_changed_{format_}.{format_}\", mode='I', fps = frames_per_second) as writer:\n",
    "                    for index_, changed_token_map_position_value in enumerate(changed_token_map_position_range):\n",
    "                        filename = trainers[dataset_name].all_images_full_path + f\"{str(index_).zfill(digit_size)}_custom_image.png\"\n",
    "                        image = imageio.imread(filename)\n",
    "                        writer.append_data(image)\n",
    "                    writer.close()"
   ]
  },
  {
   "cell_type": "code",
   "execution_count": null,
   "metadata": {},
   "outputs": [],
   "source": [
    "trainers = {}\n"
   ]
  },
  {
   "cell_type": "code",
   "execution_count": null,
   "metadata": {},
   "outputs": [],
   "source": [
    "config_paths = {\"toy_dataset\" : \"/home/novakovm/iris/MILOS/toy_shapes_config.yaml\",\n",
    "                \"crafter_dataset\" : \"/home/novakovm/iris/MILOS/crafter_config.yaml\"}"
   ]
  },
  {
   "cell_type": "code",
   "execution_count": null,
   "metadata": {},
   "outputs": [],
   "source": [
    "trainers['toy_dataset'] = run(config_paths[\"toy_dataset\"])"
   ]
  },
  {
   "cell_type": "code",
   "execution_count": null,
   "metadata": {},
   "outputs": [],
   "source": [
    "change_one_token(trainers, dataset_name = \"toy_dataset\", dataset_type = \"test\")"
   ]
  },
  {
   "cell_type": "code",
   "execution_count": null,
   "metadata": {},
   "outputs": [],
   "source": []
  },
  {
   "cell_type": "code",
   "execution_count": null,
   "metadata": {},
   "outputs": [],
   "source": []
  },
  {
   "cell_type": "code",
   "execution_count": null,
   "metadata": {},
   "outputs": [],
   "source": [
    "# def make_gif(digit_size = 6, K=256,all_images_full_path = \"/home/novakovm/crafter/500_VQ_VAE_K_256_D_128_M_7_bits_512/test_image_PLUS_encoding_counter_per_token_position_PLUS_histogram_of_codewords_usages/\"): \n",
    "#     frames_per_second = 5#10#5#10#1\n",
    "#     format_list = ['mp4', 'gif']\n",
    "    \n",
    "#     changed_token_map_position_range = changed_token_map_position_range = np.arange(0,K,1)\n",
    "#     add_ = 6 - digit_size\n",
    "#     for format_ in format_list:\n",
    "#         with imageio.get_writer(all_images_full_path + f\"_one_code_word_changed{format_}.{format_}\", mode='I', fps = frames_per_second) as writer:\n",
    "#             for index_, changed_token_map_position_value in enumerate(changed_token_map_position_range):\n",
    "#                 filename = all_images_full_path + f\"_imgs/{str(index_ + add_).zfill(digit_size)}_custom_image.png\"\n",
    "#                 image = imageio.imread(filename)\n",
    "#                 writer.append_data(image)\n",
    "#             writer.close()"
   ]
  },
  {
   "cell_type": "code",
   "execution_count": null,
   "metadata": {},
   "outputs": [],
   "source": [
    "# make_gif(digit_size = 6, K=256,all_images_full_path = \"/home/novakovm/crafter/500_VQ_VAE_K_256_D_128_M_7_bits_512/test_image_PLUS_encoding_counter_per_token_position_PLUS_histogram_of_codewords_usages/\")"
   ]
  },
  {
   "cell_type": "code",
   "execution_count": null,
   "metadata": {},
   "outputs": [],
   "source": [
    "make_gif(digit_size = 5, K=256,all_images_full_path = \"/home/novakovm/iris/MILOS/100_VQ_VAE_K_256_D_32_M_3_bits_128/test_image_PLUS_encoding_counter_per_token_position_PLUS_histogram_of_codewords_usages/\")\n"
   ]
  },
  {
   "cell_type": "code",
   "execution_count": null,
   "metadata": {},
   "outputs": [],
   "source": [
    "print(\"Finished!\")"
   ]
  },
  {
   "cell_type": "code",
   "execution_count": null,
   "metadata": {},
   "outputs": [],
   "source": []
  }
 ],
 "metadata": {
  "kernelspec": {
   "display_name": "iris_mn",
   "language": "python",
   "name": "python3"
  },
  "language_info": {
   "codemirror_mode": {
    "name": "ipython",
    "version": 3
   },
   "file_extension": ".py",
   "mimetype": "text/x-python",
   "name": "python",
   "nbconvert_exporter": "python",
   "pygments_lexer": "ipython3",
   "version": "3.9.15"
  },
  "orig_nbformat": 4,
  "vscode": {
   "interpreter": {
    "hash": "14524dedb1f240cfa87933405c6db7624e3e5d5d03a9d9b3f38011393b6d44e5"
   }
  }
 },
 "nbformat": 4,
 "nbformat_minor": 2
}
